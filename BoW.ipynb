{
  "nbformat": 4,
  "nbformat_minor": 0,
  "metadata": {
    "colab": {
      "provenance": [],
      "authorship_tag": "ABX9TyOSbQhuDa7hRdt7kctHB+i8",
      "include_colab_link": true
    },
    "kernelspec": {
      "name": "python3",
      "display_name": "Python 3"
    },
    "language_info": {
      "name": "python"
    }
  },
  "cells": [
    {
      "cell_type": "markdown",
      "metadata": {
        "id": "view-in-github",
        "colab_type": "text"
      },
      "source": [
        "<a href=\"https://colab.research.google.com/github/Abhiprameesh/NLP-lab/blob/main/BoW.ipynb\" target=\"_parent\"><img src=\"https://colab.research.google.com/assets/colab-badge.svg\" alt=\"Open In Colab\"/></a>"
      ]
    },
    {
      "cell_type": "code",
      "execution_count": null,
      "metadata": {
        "colab": {
          "base_uri": "https://localhost:8080/"
        },
        "id": "DRCi0-sdTKKm",
        "outputId": "bf6c9c01-f3ad-460a-c25b-efac13ee58ea"
      },
      "outputs": [
        {
          "output_type": "stream",
          "name": "stdout",
          "text": [
            "Tokenized Corpus: [['the', 'cat', 'sat', 'on', 'the', 'mat'], ['the', 'dog', 'barked', 'loudly'], ['the', 'cat', 'chased', 'the', 'dog'], ['the', 'mouse', 'ran', 'quickly']]\n",
            "\n",
            "Vocabulary: ['barked', 'cat', 'chased', 'dog', 'loudly', 'mat', 'mouse', 'on', 'quickly', 'ran', 'sat', 'the']\n",
            "\n",
            "Bag of Words Representation:\n",
            "Sentence 1: [0, 1, 0, 0, 0, 1, 0, 1, 0, 0, 1, 2]\n",
            "Sentence 2: [1, 0, 0, 1, 1, 0, 0, 0, 0, 0, 0, 1]\n",
            "Sentence 3: [0, 1, 1, 1, 0, 0, 0, 0, 0, 0, 0, 2]\n",
            "Sentence 4: [0, 0, 0, 0, 0, 0, 1, 0, 1, 1, 0, 1]\n"
          ]
        }
      ],
      "source": [
        "# Bag of Words Representation - Without Libraries\n",
        "\n",
        "# Sample corpus\n",
        "corpus = [\n",
        "    \"The cat sat on the mat\",\n",
        "    \"The dog barked loudly\",\n",
        "    \"The cat chased the dog\",\n",
        "    \"The mouse ran quickly\"\n",
        "]\n",
        "\n",
        "# Step 1: Preprocessing (lowercase + split)\n",
        "tokenized_corpus = [sentence.lower().split() for sentence in corpus]\n",
        "print(\"Tokenized Corpus:\", tokenized_corpus)\n",
        "\n",
        "# Step 2: Build Vocabulary (unique words)\n",
        "vocabulary = sorted(set([word for sentence in tokenized_corpus for word in sentence]))\n",
        "print(\"\\nVocabulary:\", vocabulary)\n",
        "\n",
        "# Step 3: Create Bag of Words Representation\n",
        "bow_matrix = []\n",
        "for sentence in tokenized_corpus:\n",
        "    vector = [sentence.count(word) for word in vocabulary]  # count occurrences\n",
        "    bow_matrix.append(vector)\n",
        "\n",
        "# Step 4: Display Bag of Words Matrix\n",
        "print(\"\\nBag of Words Representation:\")\n",
        "for i, row in enumerate(bow_matrix):\n",
        "    print(f\"Sentence {i+1}: {row}\")\n"
      ]
    }
  ]
}