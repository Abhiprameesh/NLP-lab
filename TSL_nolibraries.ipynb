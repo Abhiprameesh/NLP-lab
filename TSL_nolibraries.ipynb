{
  "nbformat": 4,
  "nbformat_minor": 0,
  "metadata": {
    "colab": {
      "provenance": [],
      "authorship_tag": "ABX9TyNNPGmsVm5KXQX1hpGtKSbL",
      "include_colab_link": true
    },
    "kernelspec": {
      "name": "python3",
      "display_name": "Python 3"
    },
    "language_info": {
      "name": "python"
    }
  },
  "cells": [
    {
      "cell_type": "markdown",
      "metadata": {
        "id": "view-in-github",
        "colab_type": "text"
      },
      "source": [
        "<a href=\"https://colab.research.google.com/github/Abhiprameesh/NLP-lab/blob/main/TSL_nolibraries.ipynb\" target=\"_parent\"><img src=\"https://colab.research.google.com/assets/colab-badge.svg\" alt=\"Open In Colab\"/></a>"
      ]
    },
    {
      "cell_type": "code",
      "execution_count": null,
      "metadata": {
        "id": "-z_ETe8nv2sw"
      },
      "outputs": [],
      "source": []
    },
    {
      "cell_type": "markdown",
      "metadata": {
        "id": "eb750334"
      },
      "source": [
        "# Task\n",
        "Provide Python code to perform tokenization, stemming, and lemmatization on an input sentence without using external natural language processing libraries."
      ]
    },
    {
      "cell_type": "markdown",
      "metadata": {
        "id": "0991d21d"
      },
      "source": [
        "## Tokenization\n",
        "\n",
        "### Subtask:\n",
        "Implement a function to split the input sentence into words (tokens) based on whitespace and punctuation.\n"
      ]
    },
    {
      "cell_type": "markdown",
      "metadata": {
        "id": "bad69a46"
      },
      "source": [
        "**Reasoning**:\n",
        "Define a function to tokenize the input sentence based on whitespace and punctuation.\n",
        "\n"
      ]
    },
    {
      "cell_type": "code",
      "metadata": {
        "colab": {
          "base_uri": "https://localhost:8080/"
        },
        "id": "e656ea07",
        "outputId": "899031ca-ea75-4606-bf9b-fc2d00e8f01e"
      },
      "source": [
        "import string\n",
        "\n",
        "def simple_tokenize(sentence):\n",
        "    \"\"\"\n",
        "    Splits an input sentence into tokens based on whitespace and punctuation.\n",
        "\n",
        "    Args:\n",
        "        sentence: The input string sentence.\n",
        "\n",
        "    Returns:\n",
        "        A list of tokens (words).\n",
        "    \"\"\"\n",
        "    tokens = []\n",
        "    current_token = \"\"\n",
        "    punctuation = string.punctuation\n",
        "\n",
        "    for char in sentence:\n",
        "        if char.isspace():\n",
        "            if current_token:\n",
        "                tokens.append(current_token)\n",
        "            current_token = \"\"\n",
        "        elif char in punctuation:\n",
        "            if current_token:\n",
        "                tokens.append(current_token)\n",
        "            tokens.append(char)\n",
        "            current_token = \"\"\n",
        "        else:\n",
        "            current_token += char\n",
        "\n",
        "    if current_token:\n",
        "        tokens.append(current_token)\n",
        "\n",
        "    return tokens\n",
        "\n",
        "# Example usage:\n",
        "sentence = \"Hello, world! This is a test sentence.\"\n",
        "tokenized_sentence = simple_tokenize(sentence)\n",
        "print(tokenized_sentence)"
      ],
      "execution_count": 3,
      "outputs": [
        {
          "output_type": "stream",
          "name": "stdout",
          "text": [
            "['Hello', ',', 'world', '!', 'This', 'is', 'a', 'test', 'sentence', '.']\n"
          ]
        }
      ]
    },
    {
      "cell_type": "markdown",
      "metadata": {
        "id": "e0e7b396"
      },
      "source": [
        "## Stemming\n",
        "\n",
        "### Subtask:\n",
        "Implement a basic stemming algorithm to reduce words to their root form. This will involve handling common suffixes and prefixes.\n"
      ]
    },
    {
      "cell_type": "markdown",
      "metadata": {
        "id": "17f558d6"
      },
      "source": [
        "**Reasoning**:\n",
        "Implement the `simple_stemmer` function as described in the instructions and test it with example words.\n",
        "\n"
      ]
    },
    {
      "cell_type": "code",
      "metadata": {
        "colab": {
          "base_uri": "https://localhost:8080/"
        },
        "id": "7f8e0bdd",
        "outputId": "38cada41-a0ff-4994-b674-a0cb7cfbf7d0"
      },
      "source": [
        "def simple_stemmer(word):\n",
        "    \"\"\"\n",
        "    Performs basic stemming on a word by removing common suffixes.\n",
        "\n",
        "    Args:\n",
        "        word: The input string word.\n",
        "\n",
        "    Returns:\n",
        "        The stemmed word.\n",
        "    \"\"\"\n",
        "    word = word.lower() # Convert to lowercase for consistent stemming\n",
        "\n",
        "    if word.endswith('es'):\n",
        "        word = word[:-2]\n",
        "    elif word.endswith('s'):\n",
        "        word = word[:-1]\n",
        "    elif word.endswith('ed'):\n",
        "        word = word[:-2]\n",
        "    elif word.endswith('ing'):\n",
        "        word = word[:-3]\n",
        "    elif word.endswith('ly'):\n",
        "        word = word[:-2]\n",
        "\n",
        "    # Add more suffix removal rules as needed for a more comprehensive stemmer\n",
        "\n",
        "    return word\n",
        "\n",
        "# Test cases\n",
        "words_to_stem = [\"running\", \"jumps\", \"jumped\", \"easily\", \"flies\", \"happinesses\"]\n",
        "stemmed_words = [simple_stemmer(word) for word in words_to_stem]\n",
        "print(stemmed_words)"
      ],
      "execution_count": 4,
      "outputs": [
        {
          "output_type": "stream",
          "name": "stdout",
          "text": [
            "['runn', 'jump', 'jump', 'easi', 'fli', 'happiness']\n"
          ]
        }
      ]
    },
    {
      "cell_type": "markdown",
      "metadata": {
        "id": "6613b0f3"
      },
      "source": [
        "## Lemmatization\n",
        "\n",
        "### Subtask:\n",
        "Implement a basic lemmatization algorithm to reduce words to their base or dictionary form. This will require some form of lookup or rule-based system to handle different word forms.\n"
      ]
    },
    {
      "cell_type": "markdown",
      "metadata": {
        "id": "3a4582eb"
      },
      "source": [
        "**Reasoning**:\n",
        "Implement the `simple_lemmatizer` function as described in the instructions, including the lookup table and handling of irregular forms and unknown words.\n",
        "\n"
      ]
    },
    {
      "cell_type": "code",
      "metadata": {
        "id": "f586f9d3"
      },
      "source": [
        "def simple_lemmatizer(word):\n",
        "    \"\"\"\n",
        "    Performs basic lemmatization on a word using a simple lookup table.\n",
        "\n",
        "    Args:\n",
        "        word: The input string word.\n",
        "\n",
        "    Returns:\n",
        "        The lemma (base form) of the word.\n",
        "    \"\"\"\n",
        "    lemma_lookup = {\n",
        "        \"is\": \"be\",\n",
        "        \"are\": \"be\",\n",
        "        \"was\": \"be\",\n",
        "        \"were\": \"be\",\n",
        "        \"am\": \"be\",\n",
        "        \"running\": \"run\",\n",
        "        \"ran\": \"run\",\n",
        "        \"better\": \"good\",\n",
        "        \"best\": \"good\",\n",
        "        \"go\": \"go\",\n",
        "        \"goes\": \"go\",\n",
        "        \"went\": \"go\",\n",
        "        \"gone\": \"go\",\n",
        "        \"going\": \"go\"\n",
        "    }\n",
        "\n",
        "    word_lower = word.lower()\n",
        "\n",
        "    return lemma_lookup.get(word_lower, word_lower)\n",
        "\n",
        "# Example usage:\n",
        "words_to_lemmatize = [\"is\", \"are\", \"running\", \"better\", \"goes\", \"quickly\", \"cat\"]\n",
        "lemmatized_words = [simple_lemmatizer(word) for word in words_to_lemmatize]\n",
        "print(lemmatized_words)"
      ],
      "execution_count": null,
      "outputs": []
    },
    {
      "cell_type": "markdown",
      "metadata": {
        "id": "f6f43b3d"
      },
      "source": [
        "## Combine steps\n",
        "\n",
        "### Subtask:\n",
        "Create a script or function that takes an input sentence and applies the tokenization, stemming, and lemmatization functions in sequence.\n"
      ]
    },
    {
      "cell_type": "markdown",
      "metadata": {
        "id": "6e6196eb"
      },
      "source": [
        "**Reasoning**:\n",
        "Define a function to combine tokenization, stemming, and lemmatization, then apply it to an example sentence and print the result.\n",
        "\n"
      ]
    },
    {
      "cell_type": "code",
      "metadata": {
        "colab": {
          "base_uri": "https://localhost:8080/"
        },
        "id": "a4012e1c",
        "outputId": "8aa0c4d5-c77c-4043-a41e-1fda0a190910"
      },
      "source": [
        "def process_sentence(sentence):\n",
        "    \"\"\"\n",
        "    Applies tokenization, stemming, and lemmatization to an input sentence.\n",
        "\n",
        "    Args:\n",
        "        sentence: The input string sentence.\n",
        "\n",
        "    Returns:\n",
        "        A list of processed tokens.\n",
        "    \"\"\"\n",
        "    tokens = simple_tokenize(sentence)\n",
        "    processed_tokens = []\n",
        "    for token in tokens:\n",
        "        stemmed_token = simple_stemmer(token)\n",
        "        lemmatized_token = simple_lemmatizer(stemmed_token)\n",
        "        processed_tokens.append(lemmatized_token)\n",
        "    return processed_tokens\n",
        "\n",
        "# Example usage:\n",
        "sample_sentence = \"Running is better than jumping and goes quickly.\"\n",
        "processed_result = process_sentence(sample_sentence)\n",
        "print(processed_result)"
      ],
      "execution_count": 8,
      "outputs": [
        {
          "output_type": "stream",
          "name": "stdout",
          "text": [
            "['runn', 'i', 'good', 'than', 'jump', 'and', 'go', 'quick', '.']\n"
          ]
        }
      ]
    },
    {
      "cell_type": "markdown",
      "metadata": {
        "id": "021a15aa"
      },
      "source": [
        "**Reasoning**:\n",
        "The previous code failed because the `simple_tokenize`, `simple_stemmer`, and `simple_lemmatizer` functions were not available in the current execution environment. Need to include the definitions of these functions.\n",
        "\n"
      ]
    },
    {
      "cell_type": "code",
      "metadata": {
        "colab": {
          "base_uri": "https://localhost:8080/"
        },
        "id": "G4t1qPVTw8Qn",
        "outputId": "010c772b-bc2d-48d0-a5ca-4a1d7f446314"
      },
      "source": [
        "import string\n",
        "\n",
        "def simple_tokenize(sentence):\n",
        "    \"\"\"\n",
        "    Splits an input sentence into tokens based on whitespace and punctuation.\n",
        "\n",
        "    Args:\n",
        "        sentence: The input string sentence.\n",
        "\n",
        "    Returns:\n",
        "        A list of tokens (words).\n",
        "    \"\"\"\n",
        "    tokens = []\n",
        "    current_token = \"\"\n",
        "    punctuation = string.punctuation\n",
        "\n",
        "    for char in sentence:\n",
        "        if char.isspace():\n",
        "            if current_token:\n",
        "                tokens.append(current_token)\n",
        "            current_token = \"\"\n",
        "        elif char in punctuation:\n",
        "            if current_token:\n",
        "                tokens.append(current_token)\n",
        "            tokens.append(char)\n",
        "            current_token = \"\"\n",
        "        else:\n",
        "            current_token += char\n",
        "\n",
        "    if current_token:\n",
        "        tokens.append(current_token)\n",
        "\n",
        "    return tokens\n",
        "\n",
        "def simple_stemmer(word):\n",
        "    \"\"\"\n",
        "    Performs basic stemming on a word by removing common suffixes.\n",
        "\n",
        "    Args:\n",
        "        word: The input string word.\n",
        "\n",
        "    Returns:\n",
        "        The stemmed word.\n",
        "    \"\"\"\n",
        "    word = word.lower() # Convert to lowercase for consistent stemming\n",
        "\n",
        "    if word.endswith('es'):\n",
        "        word = word[:-2]\n",
        "    elif word.endswith('s'):\n",
        "        word = word[:-1]\n",
        "    elif word.endswith('ed'):\n",
        "        word = word[:-2]\n",
        "    elif word.endswith('ing'):\n",
        "        word = word[:-3]\n",
        "    elif word.endswith('ly'):\n",
        "        word = word[:-2]\n",
        "\n",
        "    # Add more suffix removal rules as needed for a more comprehensive stemmer\n",
        "\n",
        "    return word\n",
        "\n",
        "def simple_lemmatizer(word):\n",
        "    \"\"\"\n",
        "    Performs basic lemmatization on a word using a simple lookup table.\n",
        "\n",
        "    Args:\n",
        "        word: The input string word.\n",
        "\n",
        "    Returns:\n",
        "        The lemma (base form) of the word.\n",
        "    \"\"\"\n",
        "    lemma_lookup = {\n",
        "        \"is\": \"be\",\n",
        "        \"are\": \"be\",\n",
        "        \"was\": \"be\",\n",
        "        \"were\": \"be\",\n",
        "        \"am\": \"be\",\n",
        "        \"running\": \"run\",\n",
        "        \"ran\": \"run\",\n",
        "        \"better\": \"good\",\n",
        "        \"best\": \"good\",\n",
        "        \"go\": \"go\",\n",
        "        \"goes\": \"go\",\n",
        "        \"went\": \"go\",\n",
        "        \"gone\": \"go\",\n",
        "        \"going\": \"go\"\n",
        "    }\n",
        "\n",
        "    word_lower = word.lower()\n",
        "\n",
        "    return lemma_lookup.get(word_lower, word_lower)\n",
        "\n",
        "\n",
        "def process_sentence(sentence):\n",
        "    \"\"\"\n",
        "    Applies tokenization, stemming, and lemmatization to an input sentence.\n",
        "\n",
        "    Args:\n",
        "        sentence: The input string sentence.\n",
        "\n",
        "    Returns:\n",
        "        A list of processed tokens.\n",
        "    \"\"\"\n",
        "    tokens = simple_tokenize(sentence)\n",
        "    processed_tokens = []\n",
        "    for token in tokens:\n",
        "        stemmed_token = simple_stemmer(token)\n",
        "        lemmatized_token = simple_lemmatizer(stemmed_token)\n",
        "        processed_tokens.append(lemmatized_token)\n",
        "    return processed_tokens\n",
        "\n",
        "# Example usage:\n",
        "sample_sentence = \"Running is better than jumping and goes quickly.\"\n",
        "processed_result = process_sentence(sample_sentence)\n",
        "print(processed_result)"
      ],
      "execution_count": 7,
      "outputs": [
        {
          "output_type": "stream",
          "name": "stdout",
          "text": [
            "['runn', 'i', 'good', 'than', 'jump', 'and', 'go', 'quick', '.']\n"
          ]
        }
      ]
    },
    {
      "cell_type": "markdown",
      "metadata": {
        "id": "a67f727f"
      },
      "source": [
        "## Summary:\n",
        "\n",
        "### Data Analysis Key Findings\n",
        "\n",
        "*   A basic tokenization function was successfully implemented to split sentences based on whitespace and punctuation, producing a list of tokens like \\['Hello', ',', 'world', '!', 'This', 'is', 'a', 'test', 'sentence', '.'].\n",
        "*   A simple stemming function was created to remove common suffixes ('es', 's', 'ed', 'ing', 'ly'), resulting in stemmed words such as 'runn', 'jump', and 'easi'.\n",
        "*   A basic lemmatization function was developed using a lookup table to convert words to their base form, handling specific cases like \"is\" to \"be\", \"running\" to \"run\", and \"better\" to \"good\".\n",
        "*   The final script successfully combined these functions to process a sentence, first tokenizing, then applying stemming, and finally lemmatization to each token.\n",
        "\n",
        "### Insights or Next Steps\n",
        "\n",
        "*   The current stemming and lemmatization are very basic and would not handle many edge cases or irregular forms; expanding the rules and lookup table would improve accuracy.\n",
        "*   Consider adding handling for capitalization and potential contractions during the tokenization phase for more robust processing.\n"
      ]
    }
  ]
}