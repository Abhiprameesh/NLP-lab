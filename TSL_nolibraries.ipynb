{
  "nbformat": 4,
  "nbformat_minor": 0,
  "metadata": {
    "colab": {
      "provenance": [],
      "authorship_tag": "ABX9TyMZEUGljejCt4yGLs8XroOL",
      "include_colab_link": true
    },
    "kernelspec": {
      "name": "python3",
      "display_name": "Python 3"
    },
    "language_info": {
      "name": "python"
    }
  },
  "cells": [
    {
      "cell_type": "markdown",
      "metadata": {
        "id": "view-in-github",
        "colab_type": "text"
      },
      "source": [
        "<a href=\"https://colab.research.google.com/github/Abhiprameesh/NLP-lab/blob/main/TSL_nolibraries.ipynb\" target=\"_parent\"><img src=\"https://colab.research.google.com/assets/colab-badge.svg\" alt=\"Open In Colab\"/></a>"
      ]
    },
    {
      "cell_type": "code",
      "execution_count": null,
      "metadata": {
        "id": "-z_ETe8nv2sw"
      },
      "outputs": [],
      "source": []
    },
    {
      "cell_type": "markdown",
      "metadata": {
        "id": "eb750334"
      },
      "source": [
        "# Task\n",
        "Provide Python code to perform tokenization, stemming, and lemmatization on an input sentence without using external natural language processing libraries."
      ]
    },
    {
      "cell_type": "markdown",
      "metadata": {
        "id": "0991d21d"
      },
      "source": [
        "## Tokenization\n",
        "\n",
        "### Subtask:\n",
        "Implement a function to split the input sentence into words (tokens) based on whitespace and punctuation.\n"
      ]
    },
    {
      "cell_type": "markdown",
      "metadata": {
        "id": "bad69a46"
      },
      "source": [
        "**Reasoning**:\n",
        "Define a function to tokenize the input sentence based on whitespace and punctuation.\n",
        "\n"
      ]
    },
    {
      "cell_type": "code",
      "metadata": {
        "colab": {
          "base_uri": "https://localhost:8080/"
        },
        "id": "e656ea07",
        "outputId": "3fc808b7-52da-4d4e-fa7d-9f31cbde333c"
      },
      "source": [
        "import string\n",
        "\n",
        "def simple_tokenize(sentence):\n",
        "    \"\"\"\n",
        "    Splits an input sentence into tokens based on whitespace and punctuation.\n",
        "\n",
        "    Args:\n",
        "        sentence: The input string sentence.\n",
        "\n",
        "    Returns:\n",
        "        A list of tokens (words).\n",
        "    \"\"\"\n",
        "    tokens = []\n",
        "    current_token = \"\"\n",
        "    punctuation = string.punctuation\n",
        "\n",
        "    for char in sentence:\n",
        "        if char.isspace():\n",
        "            if current_token:\n",
        "                tokens.append(current_token)\n",
        "            current_token = \"\"\n",
        "        elif char in punctuation:\n",
        "            if current_token:\n",
        "                tokens.append(current_token)\n",
        "            tokens.append(char)\n",
        "            current_token = \"\"\n",
        "        else:\n",
        "            current_token += char\n",
        "\n",
        "    if current_token:\n",
        "        tokens.append(current_token)\n",
        "\n",
        "    return tokens\n",
        "\n",
        "# Example usage:\n",
        "sentence = \"Hello, world! This is a test sentence.\"\n",
        "tokenized_sentence = simple_tokenize(sentence)\n",
        "print(tokenized_sentence)"
      ],
      "execution_count": 1,
      "outputs": [
        {
          "output_type": "stream",
          "name": "stdout",
          "text": [
            "['Hello', ',', 'world', '!', 'This', 'is', 'a', 'test', 'sentence', '.']\n"
          ]
        }
      ]
    },
    {
      "cell_type": "markdown",
      "metadata": {
        "id": "e0e7b396"
      },
      "source": [
        "## Stemming\n",
        "\n",
        "### Subtask:\n",
        "Implement a basic stemming algorithm to reduce words to their root form. This will involve handling common suffixes and prefixes.\n"
      ]
    },
    {
      "cell_type": "markdown",
      "metadata": {
        "id": "17f558d6"
      },
      "source": [
        "**Reasoning**:\n",
        "Implement the `simple_stemmer` function as described in the instructions and test it with example words.\n",
        "\n"
      ]
    },
    {
      "cell_type": "code",
      "metadata": {
        "id": "7f8e0bdd"
      },
      "source": [
        "def simple_stemmer(word):\n",
        "    \"\"\"\n",
        "    Performs basic stemming on a word by removing common suffixes.\n",
        "\n",
        "    Args:\n",
        "        word: The input string word.\n",
        "\n",
        "    Returns:\n",
        "        The stemmed word.\n",
        "    \"\"\"\n",
        "    word = word.lower() # Convert to lowercase for consistent stemming\n",
        "\n",
        "    if word.endswith('es'):\n",
        "        word = word[:-2]\n",
        "    elif word.endswith('s'):\n",
        "        word = word[:-1]\n",
        "    elif word.endswith('ed'):\n",
        "        word = word[:-2]\n",
        "    elif word.endswith('ing'):\n",
        "        word = word[:-3]\n",
        "    elif word.endswith('ly'):\n",
        "        word = word[:-2]\n",
        "\n",
        "    # Add more suffix removal rules as needed for a more comprehensive stemmer\n",
        "\n",
        "    return word\n",
        "\n",
        "# Test cases\n",
        "words_to_stem = [\"running\", \"jumps\", \"jumped\", \"easily\", \"flies\", \"happinesses\"]\n",
        "stemmed_words = [simple_stemmer(word) for word in words_to_stem]\n",
        "print(stemmed_words)"
      ],
      "execution_count": null,
      "outputs": []
    }
  ]
}