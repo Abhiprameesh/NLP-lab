{
  "nbformat": 4,
  "nbformat_minor": 0,
  "metadata": {
    "colab": {
      "provenance": [],
      "authorship_tag": "ABX9TyMydAumx/jOifAhZ5PxlnT3",
      "include_colab_link": true
    },
    "kernelspec": {
      "name": "python3",
      "display_name": "Python 3"
    },
    "language_info": {
      "name": "python"
    }
  },
  "cells": [
    {
      "cell_type": "markdown",
      "metadata": {
        "id": "view-in-github",
        "colab_type": "text"
      },
      "source": [
        "<a href=\"https://colab.research.google.com/github/Abhiprameesh/NLP-lab/blob/main/TSL_nolibraries.ipynb\" target=\"_parent\"><img src=\"https://colab.research.google.com/assets/colab-badge.svg\" alt=\"Open In Colab\"/></a>"
      ]
    },
    {
      "cell_type": "markdown",
      "metadata": {
        "id": "eb750334"
      },
      "source": [
        "# Task\n",
        "Provide Python code to perform tokenization, stemming, and lemmatization on an input sentence without using external natural language processing libraries."
      ]
    },
    {
      "cell_type": "markdown",
      "metadata": {
        "id": "0991d21d"
      },
      "source": [
        "## Tokenization\n",
        "\n",
        "### Subtask:\n",
        "Implement a function to split the input sentence into words (tokens) based on whitespace and punctuation.\n"
      ]
    },
    {
      "cell_type": "markdown",
      "metadata": {
        "id": "bad69a46"
      },
      "source": [
        "**Reasoning**:\n",
        "Define a function to tokenize the input sentence based on whitespace and punctuation.\n",
        "\n"
      ]
    },
    {
      "cell_type": "code",
      "metadata": {
        "colab": {
          "base_uri": "https://localhost:8080/"
        },
        "id": "e656ea07",
        "outputId": "26f35337-c833-432a-bc93-cfb05c7a225d"
      },
      "source": [
        "import string\n",
        "\n",
        "def simple_tokenize(sentence):\n",
        "    tokens = []\n",
        "    current_token = \"\"\n",
        "    punctuation = string.punctuation\n",
        "\n",
        "    for char in sentence:\n",
        "        if char.isspace():\n",
        "            if current_token:\n",
        "                tokens.append(current_token)\n",
        "            current_token = \"\"\n",
        "        elif char in punctuation:\n",
        "            if current_token:\n",
        "                tokens.append(current_token)\n",
        "            tokens.append(char)\n",
        "            current_token = \"\"\n",
        "        else:\n",
        "            current_token += char\n",
        "\n",
        "    if current_token:\n",
        "        tokens.append(current_token)\n",
        "\n",
        "    return tokens\n",
        "\n",
        "# Example usage:\n",
        "sentence = \"Hello, world! This is a test sentence.\"\n",
        "tokenized_sentence = simple_tokenize(sentence)\n",
        "print(tokenized_sentence)"
      ],
      "execution_count": 9,
      "outputs": [
        {
          "output_type": "stream",
          "name": "stdout",
          "text": [
            "['Hello', ',', 'world', '!', 'This', 'is', 'a', 'test', 'sentence', '.']\n"
          ]
        }
      ]
    },
    {
      "cell_type": "markdown",
      "metadata": {
        "id": "e0e7b396"
      },
      "source": [
        "## Stemming\n",
        "\n",
        "### Subtask:\n",
        "Implement a basic stemming algorithm to reduce words to their root form. This will involve handling common suffixes and prefixes.\n"
      ]
    },
    {
      "cell_type": "markdown",
      "metadata": {
        "id": "17f558d6"
      },
      "source": [
        "**Reasoning**:\n",
        "Implement the `simple_stemmer` function as described in the instructions and test it with example words.\n",
        "\n"
      ]
    },
    {
      "cell_type": "code",
      "metadata": {
        "colab": {
          "base_uri": "https://localhost:8080/"
        },
        "id": "7f8e0bdd",
        "outputId": "eae21400-991d-445b-f8fa-8a8b3a703ad8"
      },
      "source": [
        "def simple_stemmer(word):\n",
        "    word = word.lower() # Convert to lowercase for consistent stemming\n",
        "\n",
        "    if word.endswith('es'):\n",
        "        word = word[:-2]\n",
        "    elif word.endswith('s'):\n",
        "        word = word[:-1]\n",
        "    elif word.endswith('ed'):\n",
        "        word = word[:-2]\n",
        "    elif word.endswith('ing'):\n",
        "        word = word[:-3]\n",
        "    elif word.endswith('ly'):\n",
        "        word = word[:-2]\n",
        "\n",
        "    # Add more suffix removal rules as needed for a more comprehensive stemmer\n",
        "\n",
        "    return word\n",
        "\n",
        "# Test cases\n",
        "words_to_stem = [\"running\", \"jumps\", \"jumped\", \"easily\", \"flies\", \"happinesses\"]\n",
        "stemmed_words = [simple_stemmer(word) for word in words_to_stem]\n",
        "print(stemmed_words)"
      ],
      "execution_count": 10,
      "outputs": [
        {
          "output_type": "stream",
          "name": "stdout",
          "text": [
            "['runn', 'jump', 'jump', 'easi', 'fli', 'happiness']\n"
          ]
        }
      ]
    },
    {
      "cell_type": "markdown",
      "metadata": {
        "id": "6613b0f3"
      },
      "source": [
        "## Lemmatization\n",
        "\n",
        "### Subtask:\n",
        "Implement a basic lemmatization algorithm to reduce words to their base or dictionary form. This will require some form of lookup or rule-based system to handle different word forms.\n"
      ]
    },
    {
      "cell_type": "markdown",
      "metadata": {
        "id": "3a4582eb"
      },
      "source": [
        "**Reasoning**:\n",
        "Implement the `simple_lemmatizer` function as described in the instructions, including the lookup table and handling of irregular forms and unknown words.\n",
        "\n"
      ]
    },
    {
      "cell_type": "code",
      "metadata": {
        "colab": {
          "base_uri": "https://localhost:8080/"
        },
        "id": "f586f9d3",
        "outputId": "c84f1a9e-a021-4960-82ca-048cf46cf5d5"
      },
      "source": [
        "def simple_lemmatizer(word):\n",
        "\n",
        "    lemma_lookup = {\n",
        "        \"is\": \"be\",\n",
        "        \"are\": \"be\",\n",
        "        \"was\": \"be\",\n",
        "        \"were\": \"be\",\n",
        "        \"am\": \"be\",\n",
        "        \"running\": \"run\",\n",
        "        \"ran\": \"run\",\n",
        "        \"better\": \"good\",\n",
        "        \"best\": \"good\",\n",
        "        \"go\": \"go\",\n",
        "        \"goes\": \"go\",\n",
        "        \"went\": \"go\",\n",
        "        \"gone\": \"go\",\n",
        "        \"going\": \"go\"\n",
        "    }\n",
        "\n",
        "    word_lower = word.lower()\n",
        "\n",
        "    return lemma_lookup.get(word_lower, word_lower)\n",
        "\n",
        "# Example usage:\n",
        "words_to_lemmatize = [\"is\", \"are\", \"running\", \"better\", \"goes\", \"quickly\", \"cat\"]\n",
        "lemmatized_words = [simple_lemmatizer(word) for word in words_to_lemmatize]\n",
        "print(lemmatized_words)"
      ],
      "execution_count": 11,
      "outputs": [
        {
          "output_type": "stream",
          "name": "stdout",
          "text": [
            "['be', 'be', 'run', 'good', 'go', 'quickly', 'cat']\n"
          ]
        }
      ]
    },
    {
      "cell_type": "markdown",
      "metadata": {
        "id": "f6f43b3d"
      },
      "source": [
        "## Combine steps\n",
        "\n",
        "### Subtask:\n",
        "Create a script or function that takes an input sentence and applies the tokenization, stemming, and lemmatization functions in sequence.\n"
      ]
    },
    {
      "cell_type": "markdown",
      "metadata": {
        "id": "6e6196eb"
      },
      "source": [
        "**Reasoning**:\n",
        "Define a function to combine tokenization, stemming, and lemmatization, then apply it to an example sentence and print the result.\n",
        "\n"
      ]
    },
    {
      "cell_type": "code",
      "metadata": {
        "colab": {
          "base_uri": "https://localhost:8080/"
        },
        "id": "a4012e1c",
        "outputId": "1b6e6b29-180f-4559-e5c7-b9c9a5a47b0c"
      },
      "source": [
        "def process_sentence(sentence):\n",
        "\n",
        "    tokens = simple_tokenize(sentence)\n",
        "    processed_tokens = []\n",
        "    for token in tokens:\n",
        "        stemmed_token = simple_stemmer(token)\n",
        "        lemmatized_token = simple_lemmatizer(stemmed_token)\n",
        "        processed_tokens.append(lemmatized_token)\n",
        "    return processed_tokens\n",
        "\n",
        "# Example usage:\n",
        "sample_sentence = \"Running is better than jumping and goes quickly.\"\n",
        "processed_result = process_sentence(sample_sentence)\n",
        "print(processed_result)"
      ],
      "execution_count": 12,
      "outputs": [
        {
          "output_type": "stream",
          "name": "stdout",
          "text": [
            "['runn', 'i', 'good', 'than', 'jump', 'and', 'go', 'quick', '.']\n"
          ]
        }
      ]
    },
    {
      "cell_type": "markdown",
      "metadata": {
        "id": "021a15aa"
      },
      "source": [
        "**Reasoning**:\n",
        "The previous code failed because the `simple_tokenize`, `simple_stemmer`, and `simple_lemmatizer` functions were not available in the current execution environment. Need to include the definitions of these functions.\n",
        "\n"
      ]
    },
    {
      "cell_type": "code",
      "metadata": {
        "colab": {
          "base_uri": "https://localhost:8080/"
        },
        "id": "G4t1qPVTw8Qn",
        "outputId": "9697cc42-63e7-4874-ad24-fb0c80557392"
      },
      "source": [
        "import string\n",
        "\n",
        "def simple_tokenize(sentence):\n",
        "\n",
        "    tokens = []\n",
        "    current_token = \"\"\n",
        "    punctuation = string.punctuation\n",
        "\n",
        "    for char in sentence:\n",
        "        if char.isspace():\n",
        "            if current_token:\n",
        "                tokens.append(current_token)\n",
        "            current_token = \"\"\n",
        "        elif char in punctuation:\n",
        "            if current_token:\n",
        "                tokens.append(current_token)\n",
        "            tokens.append(char)\n",
        "            current_token = \"\"\n",
        "        else:\n",
        "            current_token += char\n",
        "\n",
        "    if current_token:\n",
        "        tokens.append(current_token)\n",
        "\n",
        "    return tokens\n",
        "\n",
        "def simple_stemmer(word):\n",
        "\n",
        "    word = word.lower() # Convert to lowercase for consistent stemming\n",
        "\n",
        "    if word.endswith('es'):\n",
        "        word = word[:-2]\n",
        "    elif word.endswith('s'):\n",
        "        word = word[:-1]\n",
        "    elif word.endswith('ed'):\n",
        "        word = word[:-2]\n",
        "    elif word.endswith('ing'):\n",
        "        word = word[:-3]\n",
        "    elif word.endswith('ly'):\n",
        "        word = word[:-2]\n",
        "\n",
        "    # Add more suffix removal rules as needed for a more comprehensive stemmer\n",
        "\n",
        "    return word\n",
        "\n",
        "def simple_lemmatizer(word):\n",
        "    lemma_lookup = {\n",
        "        \"is\": \"be\",\n",
        "        \"are\": \"be\",\n",
        "        \"was\": \"be\",\n",
        "        \"were\": \"be\",\n",
        "        \"am\": \"be\",\n",
        "        \"running\": \"run\",\n",
        "        \"ran\": \"run\",\n",
        "        \"better\": \"good\",\n",
        "        \"best\": \"good\",\n",
        "        \"go\": \"go\",\n",
        "        \"goes\": \"go\",\n",
        "        \"went\": \"go\",\n",
        "        \"gone\": \"go\",\n",
        "        \"going\": \"go\"\n",
        "    }\n",
        "\n",
        "    word_lower = word.lower()\n",
        "\n",
        "    return lemma_lookup.get(word_lower, word_lower)\n",
        "\n",
        "\n",
        "def process_sentence(sentence):\n",
        "\n",
        "    tokens = simple_tokenize(sentence)\n",
        "    processed_tokens = []\n",
        "    for token in tokens:\n",
        "        stemmed_token = simple_stemmer(token)\n",
        "        lemmatized_token = simple_lemmatizer(stemmed_token)\n",
        "        processed_tokens.append(lemmatized_token)\n",
        "    return processed_tokens\n",
        "\n",
        "# Example usage:\n",
        "sample_sentence = \"Running is better than jumping and goes quickly.\"\n",
        "processed_result = process_sentence(sample_sentence)\n",
        "print(processed_result)"
      ],
      "execution_count": 13,
      "outputs": [
        {
          "output_type": "stream",
          "name": "stdout",
          "text": [
            "['runn', 'i', 'good', 'than', 'jump', 'and', 'go', 'quick', '.']\n"
          ]
        }
      ]
    },
    {
      "cell_type": "code",
      "source": [],
      "metadata": {
        "id": "lvYowF6cy8Qp"
      },
      "execution_count": null,
      "outputs": []
    }
  ]
}