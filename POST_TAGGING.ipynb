{
  "nbformat": 4,
  "nbformat_minor": 0,
  "metadata": {
    "colab": {
      "provenance": [],
      "authorship_tag": "ABX9TyOOOhXE/A9uaeFOXICtIMo5",
      "include_colab_link": true
    },
    "kernelspec": {
      "name": "python3",
      "display_name": "Python 3"
    },
    "language_info": {
      "name": "python"
    }
  },
  "cells": [
    {
      "cell_type": "markdown",
      "metadata": {
        "id": "view-in-github",
        "colab_type": "text"
      },
      "source": [
        "<a href=\"https://colab.research.google.com/github/Abhiprameesh/NLP-lab/blob/main/POST_TAGGING.ipynb\" target=\"_parent\"><img src=\"https://colab.research.google.com/assets/colab-badge.svg\" alt=\"Open In Colab\"/></a>"
      ]
    },
    {
      "cell_type": "code",
      "execution_count": 3,
      "metadata": {
        "colab": {
          "base_uri": "https://localhost:8080/"
        },
        "id": "U7tPJVx6Thx0",
        "outputId": "6438f641-c851-4f1d-8a5e-73e24e7363fd"
      },
      "outputs": [
        {
          "output_type": "stream",
          "name": "stderr",
          "text": [
            "[nltk_data] Downloading package punkt to /root/nltk_data...\n",
            "[nltk_data]   Package punkt is already up-to-date!\n",
            "[nltk_data] Downloading package averaged_perceptron_tagger to\n",
            "[nltk_data]     /root/nltk_data...\n",
            "[nltk_data]   Package averaged_perceptron_tagger is already up-to-\n",
            "[nltk_data]       date!\n",
            "[nltk_data] Downloading package punkt_tab to /root/nltk_data...\n",
            "[nltk_data]   Package punkt_tab is already up-to-date!\n",
            "[nltk_data] Downloading package averaged_perceptron_tagger_eng to\n",
            "[nltk_data]     /root/nltk_data...\n",
            "[nltk_data]   Unzipping taggers/averaged_perceptron_tagger_eng.zip.\n"
          ]
        },
        {
          "output_type": "stream",
          "name": "stdout",
          "text": [
            "POS Tags: [('My', 'PRP$'), ('son', 'NN'), ('started', 'VBD'), ('the', 'DT'), ('virtual', 'JJ'), ('machine', 'NN'), ('in', 'IN'), ('the', 'DT'), ('morning', 'NN')]\n"
          ]
        }
      ],
      "source": [
        "# POS Tagging using NLTK (with library functions)\n",
        "\n",
        "import nltk\n",
        "\n",
        "# Download required datasets\n",
        "nltk.download('punkt')\n",
        "nltk.download('averaged_perceptron_tagger')\n",
        "nltk.download('punkt_tab')\n",
        "nltk.download('averaged_perceptron_tagger_eng') # Added this line to download the missing resource\n",
        "\n",
        "# Input text\n",
        "text = \"My son started the virtual machine in the morning\"\n",
        "\n",
        "# Tokenize into words\n",
        "words = nltk.word_tokenize(text)\n",
        "\n",
        "# POS Tagging\n",
        "pos_tags = nltk.pos_tag(words)\n",
        "\n",
        "print(\"POS Tags:\", pos_tags)"
      ]
    }
  ]
}